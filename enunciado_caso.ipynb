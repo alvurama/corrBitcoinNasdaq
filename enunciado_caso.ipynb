{
 "cells": [
  {
   "cell_type": "markdown",
   "metadata": {},
   "source": [
    "# Tus datos en la nube: ETLs con Python en el cloud"
   ]
  },
  {
   "cell_type": "markdown",
   "metadata": {},
   "source": [
    "## Caso: Dataset para análisis correlación entre la valoración del bitcoin y valores NASDAQ"
   ]
  },
  {
   "cell_type": "markdown",
   "metadata": {},
   "source": [
    "El caso al que pretendemos dar respuesta trata de generar un set de datos que permita, posteriormente, entrenar algún modelo estadístico para evaluar si un subconjunto de valores bursátiles de empresas tecnológicas cotizadas mantiene correlación con la valoración del Bitcoin (BTC).  "
   ]
  },
  {
   "cell_type": "markdown",
   "metadata": {},
   "source": [
    "Este tipo de modelos toman como *input* un tablón de datos con la siguiente estructura:\n",
    "- Cada columna será tomada como una variable predictora.\n",
    "- Existe una columna identificada como variable objetivo con los datos de la variable a predecir para su entrenamiento, test y validación.\n",
    "- Cada registro representa una unidad observacional."
   ]
  },
  {
   "cell_type": "markdown",
   "metadata": {},
   "source": [
    "### 1- Diseño del prototipo de producto"
   ]
  },
  {
   "cell_type": "markdown",
   "metadata": {},
   "source": [
    "Partiendo de que el objetivo es proveer de un buen producto para su posterior análisis, el requisito principal que este impone es básicamente el formato. En este caso, una tabla con variables predictoras, variable objetivo y con un registro para cada instancia de la unidad observacional a tratar. Vamos a intentar mapear estos requisitos formales a nuestro caso:"
   ]
  },
  {
   "cell_type": "markdown",
   "metadata": {},
   "source": [
    "**Unidad observacional**"
   ]
  },
  {
   "cell_type": "markdown",
   "metadata": {},
   "source": [
    "Cada registro de nuestra tabla corresponderá a un día en el cual se tomará una muestra de la valoración de cada empresa en NASDAQ y el valor del BTC.\n",
    "\n",
    "2021-10-01 | `... variables predictoras ...` | `variable objetivo`"
   ]
  },
  {
   "cell_type": "markdown",
   "metadata": {},
   "source": [
    "Por lo tanto, la `columna índice` será el propio día en el que se tome la muestra."
   ]
  },
  {
   "cell_type": "markdown",
   "metadata": {},
   "source": [
    "**Variables predictoras**"
   ]
  },
  {
   "cell_type": "markdown",
   "metadata": {},
   "source": [
    "En este caso, será información relacionada con la valoración de las empresas del NASDAQ del estudio durante el día del muestreo. Para cada empresa cotizada se quiere obtener:\n",
    "- Valoración al cierre de la jornada.\n",
    "- Diferencia entre apertura y cierre.\n",
    "- Tendencia de la jornada.\n",
    "- Rango del día."
   ]
  },
  {
   "cell_type": "markdown",
   "metadata": {},
   "source": [
    "**Variable objetivo**"
   ]
  },
  {
   "cell_type": "markdown",
   "metadata": {},
   "source": [
    "La variable objetivo en este caso será el valor del Bitcoin en el momento de la consulta."
   ]
  },
  {
   "cell_type": "markdown",
   "metadata": {},
   "source": [
    "**Prototipo del tablón final** <a name=\"tablon_final\"></a>"
   ]
  },
  {
   "cell_type": "code",
   "execution_count": 2,
   "metadata": {},
   "outputs": [],
   "source": [
    "import pandas as pd\n",
    "import numpy as np\n",
    "\n",
    "dias = pd.date_range('2021-10-01', '2021-10-10', freq='d')\n",
    "\n",
    "valor_1_cierre = np.random.uniform(low=10.0, high=2000.0, size=10)\n",
    "\n",
    "valor_1_dif = np.random.uniform(low=10.0, high=2000.0, size=10)\n",
    "\n",
    "valor_1_tend = np.random.choice(a=('-', '+'), p=(0.5,0.5), size=10)\n",
    "\n",
    "valor_1_rango = np.random.uniform(low=10.0, high=2000.0, size=10)\n",
    "\n",
    "valor_2_cierre = np.random.uniform(low=10.0, high=2000.0, size=10)\n",
    "\n",
    "valor_2_dif = np.random.uniform(low=10.0, high=2000.0, size=10)\n",
    "\n",
    "valor_2_tend = np.random.choice(a=('-', '+'), p=(0.5,0.5), size=10)\n",
    "\n",
    "valor_2_rango = np.random.uniform(low=10.0, high=2000.0, size=10)\n",
    "\n",
    "valor_btc = np.random.uniform(low=10.0, high=20000.0, size=10)\n"
   ]
  },
  {
   "cell_type": "code",
   "execution_count": 3,
   "metadata": {},
   "outputs": [
    {
     "data": {
      "text/html": [
       "<div>\n",
       "<style scoped>\n",
       "    .dataframe tbody tr th:only-of-type {\n",
       "        vertical-align: middle;\n",
       "    }\n",
       "\n",
       "    .dataframe tbody tr th {\n",
       "        vertical-align: top;\n",
       "    }\n",
       "\n",
       "    .dataframe thead th {\n",
       "        text-align: right;\n",
       "    }\n",
       "</style>\n",
       "<table border=\"1\" class=\"dataframe\">\n",
       "  <thead>\n",
       "    <tr style=\"text-align: right;\">\n",
       "      <th></th>\n",
       "      <th>V1_cierre</th>\n",
       "      <th>V1_dif</th>\n",
       "      <th>V1_tend</th>\n",
       "      <th>V1_rango</th>\n",
       "      <th>V2_cierre</th>\n",
       "      <th>V2_dif</th>\n",
       "      <th>V2_tend</th>\n",
       "      <th>V2_rango</th>\n",
       "      <th>V_BTC</th>\n",
       "    </tr>\n",
       "  </thead>\n",
       "  <tbody>\n",
       "    <tr>\n",
       "      <th>2021-10-01</th>\n",
       "      <td>1522.128578</td>\n",
       "      <td>1216.320398</td>\n",
       "      <td>+</td>\n",
       "      <td>132.096401</td>\n",
       "      <td>984.164972</td>\n",
       "      <td>1897.878565</td>\n",
       "      <td>+</td>\n",
       "      <td>1726.995821</td>\n",
       "      <td>1427.281207</td>\n",
       "    </tr>\n",
       "    <tr>\n",
       "      <th>2021-10-02</th>\n",
       "      <td>1953.242897</td>\n",
       "      <td>1048.640601</td>\n",
       "      <td>-</td>\n",
       "      <td>1339.014751</td>\n",
       "      <td>439.960033</td>\n",
       "      <td>1125.425953</td>\n",
       "      <td>+</td>\n",
       "      <td>704.346426</td>\n",
       "      <td>17740.311524</td>\n",
       "    </tr>\n",
       "    <tr>\n",
       "      <th>2021-10-03</th>\n",
       "      <td>1331.877868</td>\n",
       "      <td>1720.068208</td>\n",
       "      <td>-</td>\n",
       "      <td>1006.028988</td>\n",
       "      <td>420.915478</td>\n",
       "      <td>713.249992</td>\n",
       "      <td>+</td>\n",
       "      <td>21.287510</td>\n",
       "      <td>2926.351254</td>\n",
       "    </tr>\n",
       "    <tr>\n",
       "      <th>2021-10-04</th>\n",
       "      <td>1763.848050</td>\n",
       "      <td>1859.672770</td>\n",
       "      <td>-</td>\n",
       "      <td>138.329005</td>\n",
       "      <td>609.856009</td>\n",
       "      <td>1312.718932</td>\n",
       "      <td>+</td>\n",
       "      <td>1464.635777</td>\n",
       "      <td>7378.060236</td>\n",
       "    </tr>\n",
       "    <tr>\n",
       "      <th>2021-10-05</th>\n",
       "      <td>1043.863434</td>\n",
       "      <td>1350.009186</td>\n",
       "      <td>+</td>\n",
       "      <td>40.598438</td>\n",
       "      <td>1359.568174</td>\n",
       "      <td>1772.486945</td>\n",
       "      <td>-</td>\n",
       "      <td>1294.714572</td>\n",
       "      <td>3794.381129</td>\n",
       "    </tr>\n",
       "    <tr>\n",
       "      <th>2021-10-06</th>\n",
       "      <td>1299.377220</td>\n",
       "      <td>330.475656</td>\n",
       "      <td>+</td>\n",
       "      <td>271.921582</td>\n",
       "      <td>1630.648184</td>\n",
       "      <td>628.529014</td>\n",
       "      <td>-</td>\n",
       "      <td>877.338943</td>\n",
       "      <td>16548.865301</td>\n",
       "    </tr>\n",
       "    <tr>\n",
       "      <th>2021-10-07</th>\n",
       "      <td>1349.850283</td>\n",
       "      <td>1855.872016</td>\n",
       "      <td>-</td>\n",
       "      <td>1310.406510</td>\n",
       "      <td>839.003449</td>\n",
       "      <td>1559.602844</td>\n",
       "      <td>-</td>\n",
       "      <td>740.899182</td>\n",
       "      <td>2106.411685</td>\n",
       "    </tr>\n",
       "    <tr>\n",
       "      <th>2021-10-08</th>\n",
       "      <td>1837.601382</td>\n",
       "      <td>92.944221</td>\n",
       "      <td>+</td>\n",
       "      <td>1731.897684</td>\n",
       "      <td>1768.055596</td>\n",
       "      <td>136.893282</td>\n",
       "      <td>-</td>\n",
       "      <td>1564.053337</td>\n",
       "      <td>9033.536712</td>\n",
       "    </tr>\n",
       "    <tr>\n",
       "      <th>2021-10-09</th>\n",
       "      <td>1225.835859</td>\n",
       "      <td>1778.222356</td>\n",
       "      <td>+</td>\n",
       "      <td>1114.190089</td>\n",
       "      <td>636.260812</td>\n",
       "      <td>1205.039940</td>\n",
       "      <td>+</td>\n",
       "      <td>1358.229436</td>\n",
       "      <td>3731.607484</td>\n",
       "    </tr>\n",
       "    <tr>\n",
       "      <th>2021-10-10</th>\n",
       "      <td>765.067183</td>\n",
       "      <td>362.218321</td>\n",
       "      <td>-</td>\n",
       "      <td>1230.035325</td>\n",
       "      <td>1075.433884</td>\n",
       "      <td>584.252317</td>\n",
       "      <td>-</td>\n",
       "      <td>684.941044</td>\n",
       "      <td>9019.120644</td>\n",
       "    </tr>\n",
       "  </tbody>\n",
       "</table>\n",
       "</div>"
      ],
      "text/plain": [
       "              V1_cierre       V1_dif V1_tend     V1_rango    V2_cierre  \\\n",
       "2021-10-01  1522.128578  1216.320398       +   132.096401   984.164972   \n",
       "2021-10-02  1953.242897  1048.640601       -  1339.014751   439.960033   \n",
       "2021-10-03  1331.877868  1720.068208       -  1006.028988   420.915478   \n",
       "2021-10-04  1763.848050  1859.672770       -   138.329005   609.856009   \n",
       "2021-10-05  1043.863434  1350.009186       +    40.598438  1359.568174   \n",
       "2021-10-06  1299.377220   330.475656       +   271.921582  1630.648184   \n",
       "2021-10-07  1349.850283  1855.872016       -  1310.406510   839.003449   \n",
       "2021-10-08  1837.601382    92.944221       +  1731.897684  1768.055596   \n",
       "2021-10-09  1225.835859  1778.222356       +  1114.190089   636.260812   \n",
       "2021-10-10   765.067183   362.218321       -  1230.035325  1075.433884   \n",
       "\n",
       "                 V2_dif V2_tend     V2_rango         V_BTC  \n",
       "2021-10-01  1897.878565       +  1726.995821   1427.281207  \n",
       "2021-10-02  1125.425953       +   704.346426  17740.311524  \n",
       "2021-10-03   713.249992       +    21.287510   2926.351254  \n",
       "2021-10-04  1312.718932       +  1464.635777   7378.060236  \n",
       "2021-10-05  1772.486945       -  1294.714572   3794.381129  \n",
       "2021-10-06   628.529014       -   877.338943  16548.865301  \n",
       "2021-10-07  1559.602844       -   740.899182   2106.411685  \n",
       "2021-10-08   136.893282       -  1564.053337   9033.536712  \n",
       "2021-10-09  1205.039940       +  1358.229436   3731.607484  \n",
       "2021-10-10   584.252317       -   684.941044   9019.120644  "
      ]
     },
     "execution_count": 3,
     "metadata": {},
     "output_type": "execute_result"
    }
   ],
   "source": [
    "pd.DataFrame({'V1_cierre': valor_1_cierre,\n",
    "              'V1_dif': valor_1_dif,\n",
    "              'V1_tend': valor_1_tend,\n",
    "              'V1_rango': valor_1_rango,\n",
    "              'V2_cierre': valor_2_cierre,\n",
    "              'V2_dif': valor_2_dif,\n",
    "              'V2_tend': valor_2_tend,\n",
    "              'V2_rango': valor_2_rango,\n",
    "              'V_BTC': valor_btc\n",
    "             }, index=dias)"
   ]
  },
  {
   "cell_type": "markdown",
   "metadata": {},
   "source": [
    "### 2- Extracción"
   ]
  },
  {
   "cell_type": "markdown",
   "metadata": {},
   "source": [
    "#### ¿De dónde obtenemos los datos?"
   ]
  },
  {
   "cell_type": "markdown",
   "metadata": {},
   "source": [
    "Existen varias fuentes de datos disponibles para este tipo de valores. Sin embargo, hemos elegido los siguientes:"
   ]
  },
  {
   "cell_type": "markdown",
   "metadata": {},
   "source": [
    "*Para los valores de las empresas a consultar en NASDAQ*"
   ]
  },
  {
   "cell_type": "markdown",
   "metadata": {},
   "source": [
    "En este caso, una de las fuentes más usadas en Yahoo Finance. Para presentar una nueva tipología de fuentes de datos, presentaremos `yfinance`, una librería que hace de *wrapper* para Python de la API de Yahoo Finance.\n",
    "\n",
    "Este tipo de librerías nos facilitan mucho el trabajar con APIs puesto que implementan con clases y métodos el tipo de interacciones que solemos hacer. Otro ejemplo de este tipo podría ser `tweepy`, que permite interaccionar con la API de Twitter."
   ]
  },
  {
   "cell_type": "markdown",
   "metadata": {},
   "source": [
    "*Para los valores de BTC*"
   ]
  },
  {
   "cell_type": "markdown",
   "metadata": {},
   "source": [
    "Usaremos la API REST \"directa\" en este caso de coinbase."
   ]
  },
  {
   "cell_type": "markdown",
   "metadata": {},
   "source": [
    "#### ¿Con qué frecuencia obtenemos los datos?"
   ]
  },
  {
   "cell_type": "markdown",
   "metadata": {},
   "source": [
    "Las valoraciones de BTC se van actualizando de forma continuada, sin embargo, NASDAQ tiene un calendario y horario para operar. En este caso, nos interesa obtener los datos de las jornadas en que se haya operado en NASDAQ una vez estas hayan finalizado (para poder obtener todas las variables que nos interesan)."
   ]
  },
  {
   "cell_type": "markdown",
   "metadata": {},
   "source": [
    "*Fuente*: http://www.nasdaqtrader.com/trader.aspx?id=calendar"
   ]
  },
  {
   "cell_type": "markdown",
   "metadata": {},
   "source": [
    "#### ¿Qué partición consultamos?"
   ]
  },
  {
   "cell_type": "markdown",
   "metadata": {},
   "source": [
    "*Para los valores de las empresas a consultar en NASDAQ*"
   ]
  },
  {
   "cell_type": "markdown",
   "metadata": {},
   "source": [
    "Vemos si `yfinance` permite:\n",
    "- consultar datos para una empresa determinada\n",
    "- obtener los datos solamente del último día de operación\n",
    "- ver sobre qué variables nos devuelve los datos"
   ]
  },
  {
   "cell_type": "markdown",
   "metadata": {},
   "source": [
    "https://pypi.org/project/yfinance/ - ver método `ticker.history()`"
   ]
  },
  {
   "cell_type": "markdown",
   "metadata": {},
   "source": [
    "Vemos si podemos consultar para solo una empresa y el último día:"
   ]
  },
  {
   "cell_type": "code",
   "execution_count": 4,
   "metadata": {},
   "outputs": [
    {
     "data": {
      "text/html": [
       "<div>\n",
       "<style scoped>\n",
       "    .dataframe tbody tr th:only-of-type {\n",
       "        vertical-align: middle;\n",
       "    }\n",
       "\n",
       "    .dataframe tbody tr th {\n",
       "        vertical-align: top;\n",
       "    }\n",
       "\n",
       "    .dataframe thead th {\n",
       "        text-align: right;\n",
       "    }\n",
       "</style>\n",
       "<table border=\"1\" class=\"dataframe\">\n",
       "  <thead>\n",
       "    <tr style=\"text-align: right;\">\n",
       "      <th></th>\n",
       "      <th>Open</th>\n",
       "      <th>High</th>\n",
       "      <th>Low</th>\n",
       "      <th>Close</th>\n",
       "      <th>Volume</th>\n",
       "      <th>Dividends</th>\n",
       "      <th>Stock Splits</th>\n",
       "    </tr>\n",
       "    <tr>\n",
       "      <th>Date</th>\n",
       "      <th></th>\n",
       "      <th></th>\n",
       "      <th></th>\n",
       "      <th></th>\n",
       "      <th></th>\n",
       "      <th></th>\n",
       "      <th></th>\n",
       "    </tr>\n",
       "  </thead>\n",
       "  <tbody>\n",
       "    <tr>\n",
       "      <th>2022-07-12</th>\n",
       "      <td>112.160004</td>\n",
       "      <td>113.230003</td>\n",
       "      <td>108.339996</td>\n",
       "      <td>109.220001</td>\n",
       "      <td>54179100</td>\n",
       "      <td>0</td>\n",
       "      <td>0</td>\n",
       "    </tr>\n",
       "  </tbody>\n",
       "</table>\n",
       "</div>"
      ],
      "text/plain": [
       "                  Open        High         Low       Close    Volume  \\\n",
       "Date                                                                   \n",
       "2022-07-12  112.160004  113.230003  108.339996  109.220001  54179100   \n",
       "\n",
       "            Dividends  Stock Splits  \n",
       "Date                                 \n",
       "2022-07-12          0             0  "
      ]
     },
     "execution_count": 4,
     "metadata": {},
     "output_type": "execute_result"
    }
   ],
   "source": [
    "import yfinance as yf\n",
    "\n",
    "tk = yf.Ticker('AMZN')\n",
    "raw_df = pd.DataFrame(tk.history(period='1d'))\n",
    "\n",
    "raw_df"
   ]
  },
  {
   "cell_type": "markdown",
   "metadata": {},
   "source": [
    "La forma de obtener variables de interés es mediante subset."
   ]
  },
  {
   "cell_type": "code",
   "execution_count": 5,
   "metadata": {
    "scrolled": true
   },
   "outputs": [
    {
     "data": {
      "text/html": [
       "<div>\n",
       "<style scoped>\n",
       "    .dataframe tbody tr th:only-of-type {\n",
       "        vertical-align: middle;\n",
       "    }\n",
       "\n",
       "    .dataframe tbody tr th {\n",
       "        vertical-align: top;\n",
       "    }\n",
       "\n",
       "    .dataframe thead th {\n",
       "        text-align: right;\n",
       "    }\n",
       "</style>\n",
       "<table border=\"1\" class=\"dataframe\">\n",
       "  <thead>\n",
       "    <tr style=\"text-align: right;\">\n",
       "      <th></th>\n",
       "      <th>Open</th>\n",
       "      <th>High</th>\n",
       "      <th>Low</th>\n",
       "      <th>Close</th>\n",
       "    </tr>\n",
       "    <tr>\n",
       "      <th>Date</th>\n",
       "      <th></th>\n",
       "      <th></th>\n",
       "      <th></th>\n",
       "      <th></th>\n",
       "    </tr>\n",
       "  </thead>\n",
       "  <tbody>\n",
       "    <tr>\n",
       "      <th>2022-07-12</th>\n",
       "      <td>112.160004</td>\n",
       "      <td>113.230003</td>\n",
       "      <td>108.339996</td>\n",
       "      <td>109.220001</td>\n",
       "    </tr>\n",
       "  </tbody>\n",
       "</table>\n",
       "</div>"
      ],
      "text/plain": [
       "                  Open        High         Low       Close\n",
       "Date                                                      \n",
       "2022-07-12  112.160004  113.230003  108.339996  109.220001"
      ]
     },
     "execution_count": 5,
     "metadata": {},
     "output_type": "execute_result"
    }
   ],
   "source": [
    "raw_df[['Open', 'High', 'Low', 'Close']]"
   ]
  },
  {
   "cell_type": "markdown",
   "metadata": {},
   "source": [
    "Concluimos lo siguiente:\n",
    "- `yfinance` permite consultas por índice bursátil, por lo que vamos a trabajar con un dataframe por empresa como fuente de datos (lista de dataframes). Esto nos obliga a agregarlas para obtener el tablón que deseamos.\n",
    "- la librería permite obtener una partición bastante próxima a nuestro producto deseado.\n",
    "- Existen variables que habrá ingeniar a partir de las existentes."
   ]
  },
  {
   "cell_type": "markdown",
   "metadata": {},
   "source": [
    "*Para los valores de BTC*"
   ]
  },
  {
   "cell_type": "markdown",
   "metadata": {},
   "source": [
    "El enfoque de la API de Coinbase es distinto, puesto que obtiene el valor del BTC en ese preciso momento. Por lo tanto, vamos a tener que consultarlo en un momento determinado y obtener su valor."
   ]
  },
  {
   "cell_type": "code",
   "execution_count": 7,
   "metadata": {},
   "outputs": [
    {
     "data": {
      "text/plain": [
       "{'data': {'base': 'BTC', 'currency': 'USD', 'amount': '19476.71'}}"
      ]
     },
     "execution_count": 7,
     "metadata": {},
     "output_type": "execute_result"
    }
   ],
   "source": [
    "import requests\n",
    "\n",
    "response = requests.get('https://api.coinbase.com/v2/prices/spot?currency=USD')\n",
    "btc_raw = response.json()\n",
    "btc_raw"
   ]
  },
  {
   "cell_type": "code",
   "execution_count": 12,
   "metadata": {
    "scrolled": true
   },
   "outputs": [
    {
     "data": {
      "text/plain": [
       "'19476.71'"
      ]
     },
     "execution_count": 12,
     "metadata": {},
     "output_type": "execute_result"
    }
   ],
   "source": [
    "btc_raw['data']['amount']"
   ]
  },
  {
   "cell_type": "markdown",
   "metadata": {},
   "source": [
    "### 3- Transformación"
   ]
  },
  {
   "cell_type": "markdown",
   "metadata": {},
   "source": [
    "#### QA"
   ]
  },
  {
   "cell_type": "markdown",
   "metadata": {},
   "source": [
    "- Los datos obtenidos desde yfinance nos garantiza un tipo de datos determinado puesto que es directamente una librería implementada en Python (ver documentación).\n",
    "\n",
    "- De los que vienen a través de la API REST de coinbase habrá que asegurar el tipo de dato."
   ]
  },
  {
   "cell_type": "markdown",
   "metadata": {},
   "source": [
    "#### Ingeniería de características"
   ]
  },
  {
   "cell_type": "markdown",
   "metadata": {},
   "source": [
    "Realizamos la ingeniería de variables previa al agregado de forma que el conjunto pueda programarse más eficientemente.\n",
    "\n",
    "Como hemos visto en el prototipo, las variables que esperamos obtener son básicamente relacionadas con los índices bursátiles y el valor del BTC.\n",
    "\n",
    "Entonces, habría que evalaur cuales de estas vienen directamente obtenidas de las fuentes de datos y cuales hay que ingeniar a partir de las otras. Vamos entonces a examinar qué variables pueden ser directamente obtenibles desde las fuentes de datos y qué variables hay que ingeniar. Para las que caigan en esa categoría, vamos a estudiar cómo generarlas.\n",
    "\n",
    "*variables índices bursátiles*\n",
    "- [indicebursatil]_cierre: obtenible directamente a través de la consulta a `yfinance`. Campo `Close`.\n",
    "- [indicebursatil]_dif: hay que ingenierla desde el dataframe obtenido con `yfinance`: `Open` - `Close`.\n",
    "- [indicebursatil]_tend: hay que ingeniarla. Podemos aprovechar el resultado de la variable superior y simplemente evaluar su símbolo.\n",
    "- [indicebursatil]_rango: hay que ingeniarla desde el dataframe obtenido con `yfinance`: `High` - `Low`.\n",
    "- valor_btc: obtenible directamente a través del fichero JSON de respuesta de la API de Coinbase.\n"
   ]
  },
  {
   "cell_type": "markdown",
   "metadata": {},
   "source": [
    "#### Agregado"
   ]
  },
  {
   "cell_type": "markdown",
   "metadata": {},
   "source": [
    "De la extracción e ingeniería de características, vamos a obtener lo siguiente:\n",
    "- Un listado de dataframes con la información bursátil de cada índice.\n",
    "- Un dataframe con el valor del BTC.\n",
    "\n",
    "Para agregarlos, deberemos concatenar los dataframes. Si el valor de BTC podemos formatearlo a dataframe, nos será más fácil de llevarlo a cabo puesto que usaremos solo ese tipo y nos serviremos de métodos de Pandas.\n",
    "\n",
    "Con todo esto, habremos generado nuestro tablón final."
   ]
  },
  {
   "cell_type": "markdown",
   "metadata": {},
   "source": [
    "### 4- Load"
   ]
  },
  {
   "cell_type": "markdown",
   "metadata": {},
   "source": [
    "Sólamente nos quedará resolver dónde guardamos el tablón.\n",
    "\n",
    "**Ubicación**\n",
    "\n",
    "La aproximación que propongo en el caso es guardarlo en una base de datos cloud basada en SQL.\n",
    "\n",
    "De tal forma tendremos los siguientes beneficios:\n",
    "- Tendremos los datos de forma consistente por usar un RDBMS.\n",
    "- El tamaño de nuestro data\n",
    "\n",
    "Vamos a crear una base de datos (y por lo tanto, también una instancia) de Azure SQL Server (solución **PaaS**). Una vez desplegada, el flow va a guardar para cada día que obtenga datos, un registro nuevo con los valores de cada variable en una tabla determinada.\n",
    "\n",
    "Cómo el objetivo de la base de datos será puramente para consultas en los posteriores posibles análisis, vamos a optar por un enfoque **desnormalizado**. De tal forma, solo crearemos una tabla que sea un reflejo del dataframe producto de la fase de análisis.\n",
    "\n",
    "**Conexión**\n",
    "\n",
    "Las bases de datos suelen implementar un protocolo mediante el cual permiten crear conexiones desde otros sistemas (comunmente llamadas cadenas de conexión) llamado ODBC (**O**pen **D**ata**b**ase **C**onnectivity).\n",
    "\n",
    "La forma más común de implementar estas conexiones en Python es mediante la librería `pyodbc`, que permite, a través de una cadena de conexión, generar un cursor que ejecute queries SQL sobre la base de datos. Es el método óptimo para poder pasar a la base de datos solo los registros que genere cada dia (`INSERTS`) a la vez que usamos las menos librerías posibles (por lo tanto somos más eficientes con el uso de recursos).\n",
    "\n",
    "Las interacciones con la base de datos que implementaremos en el flow serán los siguienteS:\n",
    "- Creación de la tabla si no existe: de tal forma, podremos asegurar que si la tabla no existe sea creada y las inserciones se realicen de forma correcta.\n",
    "\n",
    "- Inserción de los valores diarios: pasando como parámetros los valores del día.\n"
   ]
  },
  {
   "cell_type": "markdown",
   "metadata": {},
   "source": [
    "Las tareas de las que se compondrá esta conexión son las siguientes:\n",
    "- Validar la operación en mercados durante el día del flow. Descartar los registros del tablón en caso de que no se haya operado en NASDAQ ese día.\n",
    "- Crear tabla si no existe.\n",
    "- Validar si existe el registro. Si existe descartamos los registros.\n",
    "- Inserción de los registros de la tabla."
   ]
  },
  {
   "cell_type": "markdown",
   "metadata": {},
   "source": [
    "### 5 - Resumen"
   ]
  },
  {
   "cell_type": "markdown",
   "metadata": {},
   "source": [
    "Vamos a recapitular lo que hemos estudiado en este ejercicio de definición del flow.\n",
    "\n",
    "- El producto final va a parecerse al prototipo que hemos definido [aquí](#tablon_final).\n",
    "\n",
    "- Sin embargo, cada ejecución diaria del flow generará un tablón con una fila para ese día, que será insertada en la base de datos. De esta forma usaremos más eficientemente todos los recursos de nuestra infrastructura que intervienen.\n",
    "\n",
    "- Vamos a ejecutar el flow diariamente cuando cierren los mercados consultados. Controlaremos que no se inserten datos en la base de datos cuando haya discordancia entre la fecha del último registro obtenido de los índices de NASDAQ con el de BTC.\n",
    "\n",
    "- En la extracción, trabajaremos con fuentes de datos basadas en API REST y librerías propias (`yfinance`).\n",
    "\n",
    "- En la transformación, llevaremos a cabo sobretodo tareas de ingeniería de variables y agregación de datos.\n",
    "\n",
    "- Vamos a guardar los datos en una base de datos de Azure SQL Server que crearemos en el desarrollo del caso."
   ]
  }
 ],
 "metadata": {
  "kernelspec": {
   "display_name": "Python 3.9.9 ('dev_caso')",
   "language": "python",
   "name": "python3"
  },
  "language_info": {
   "codemirror_mode": {
    "name": "ipython",
    "version": 3
   },
   "file_extension": ".py",
   "mimetype": "text/x-python",
   "name": "python",
   "nbconvert_exporter": "python",
   "pygments_lexer": "ipython3",
   "version": "3.9.9"
  },
  "vscode": {
   "interpreter": {
    "hash": "86565bf906a099ad9fb4b12377a22707b9560def23fdbbf1cf6f5affbb266143"
   }
  }
 },
 "nbformat": 4,
 "nbformat_minor": 4
}
